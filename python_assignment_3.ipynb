{
 "cells": [
  {
   "cell_type": "code",
   "execution_count": null,
   "metadata": {},
   "outputs": [],
   "source": [
    "#1 functions basically reduces redundancy of code we can just use function instead of writing the entire code again\n",
    "#2 FUNCTION RUNS WHEN IT GETS CALLED LIKE fun()\n",
    "#3 def fun()\n",
    "#4 function is bascially defining the function where as function call is calling the function when it's needed\n",
    "#5 1 global scope local scopes are based on how many functions we have created\n",
    "#6 it wont change if we want to change global variables inside a local scope we need to define global var\n",
    "#7return value concept is basically returning value after the usage of function\n",
    "#8 return value will be empty it will be NULL\n",
    "#9 by definininng global succeding variable name\n",
    "#10 null\n",
    "#11 it imports the following library specified\n",
    "#12spam.bacon()\n",
    "#13 we use try catch statement\n",
    "#14 try clause is like try this if its not possible these are the expected exception here except clause comes into picture\n"
   ]
  }
 ],
 "metadata": {
  "kernelspec": {
   "display_name": "Python 3",
   "language": "python",
   "name": "python3"
  },
  "language_info": {
   "codemirror_mode": {
    "name": "ipython",
    "version": 3
   },
   "file_extension": ".py",
   "mimetype": "text/x-python",
   "name": "python",
   "nbconvert_exporter": "python",
   "pygments_lexer": "ipython3",
   "version": "3.8.5"
  }
 },
 "nbformat": 4,
 "nbformat_minor": 4
}
