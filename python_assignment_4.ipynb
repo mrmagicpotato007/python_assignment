{
 "cells": [
  {
   "cell_type": "code",
   "execution_count": 1,
   "metadata": {},
   "outputs": [],
   "source": [
    "#1 it means defining empty list\n",
    "#2 spam[2]=\"hello\"\n",
    "#3 8\n",
    "#4 'd'\n",
    "#5 2,4\n",
    "#6 1\n",
    "#7 it just pushes back 99 into the list\n",
    "#8 it deletes cat from the list\n",
    "#9 for concatentaion we use + or we can do it by using extend where as for replication we use B=A[:]\n",
    "#10 append() basically inserting at the end where as insert is adding at specific index of list\n",
    "#11 using pop() when we a list l we can use l.pop(value)/l.remove(value)\n",
    "#12 The values that make up a list are called its elements. Lists are similar to strings, which are ordered collections of characters, except that the elements of a list can have any type and for any one list, the items can be of different types.\n",
    "#13 tuples are immutable where as list is mutable\n",
    "#14 t=(42,), is mandatory\n",
    "#15 by using tuple() on list and list() on tuple\n",
    "#16 they contain refrences to list vakues\n",
    "#17 the copy.copy() function will do a shallow copy of a list, while the copy.deepcopy() function will do a deep copy of a list. That is, only copy.deepcopy() will duplicate any lists inside the list.\n"
   ]
  },
  {
   "cell_type": "code",
   "execution_count": null,
   "metadata": {},
   "outputs": [],
   "source": []
  }
 ],
 "metadata": {
  "kernelspec": {
   "display_name": "Python 3",
   "language": "python",
   "name": "python3"
  },
  "language_info": {
   "codemirror_mode": {
    "name": "ipython",
    "version": 3
   },
   "file_extension": ".py",
   "mimetype": "text/x-python",
   "name": "python",
   "nbconvert_exporter": "python",
   "pygments_lexer": "ipython3",
   "version": "3.8.5"
  }
 },
 "nbformat": 4,
 "nbformat_minor": 4
}
