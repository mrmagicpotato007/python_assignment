{
 "cells": [
  {
   "cell_type": "code",
   "execution_count": null,
   "metadata": {},
   "outputs": [],
   "source": [
    "#1 using {}/dict()\n",
    "#2  42 d['foo']=42 {\"foo\":42}\n",
    "#3 dictionary is key value pair data structure where as list is like a container/dictionary is unoredered where as list is ordered\n",
    "#4 we get keyerror error\n",
    "#5 no difference at all\n",
    "#6 'cat' in spam checks whether there is a 'cat' key in the dictionary, while 'cat' in spam.values() checks whether there is a value 'cat' for one of the keys in spam.\n",
    "#7 spam.setdefault('color', 'black')\n",
    "#8 pprint.pprint();"
   ]
  }
 ],
 "metadata": {
  "kernelspec": {
   "display_name": "Python 3",
   "language": "python",
   "name": "python3"
  },
  "language_info": {
   "codemirror_mode": {
    "name": "ipython",
    "version": 3
   },
   "file_extension": ".py",
   "mimetype": "text/x-python",
   "name": "python",
   "nbconvert_exporter": "python",
   "pygments_lexer": "ipython3",
   "version": "3.8.5"
  }
 },
 "nbformat": 4,
 "nbformat_minor": 4
}
